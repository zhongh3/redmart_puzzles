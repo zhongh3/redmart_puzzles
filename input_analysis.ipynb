{
 "cells": [
  {
   "cell_type": "code",
   "execution_count": 1,
   "metadata": {},
   "outputs": [],
   "source": [
    "import pandas as pd\n",
    "import numpy as np\n",
    "import logging\n",
    "# change logging level from INFO to DEBUG to print debugging logs\n",
    "logging.basicConfig(level=logging.INFO, \n",
    "                    format='%(levelname)s - %(funcName)s - %(lineno)d - %(message)s')\n",
    "from enum import IntEnum \n",
    "\n",
    "# Configurations:\n",
    "file_name = \"./products.csv\"\n",
    "\n",
    "# specify the number of rows to read, set to \"None\" to read the whole file\n",
    "num_rows = None  \n",
    "\n",
    "# input data format (no header):\n",
    "#  |     0      |   1   |    2   |   3   |   4    |   5    |\n",
    "#  | product ID | price | length | width | height | weight |\n",
    "#  |     /      | cents |   cm   |  cm   |   cm   |   g    |\n",
    "# -------------------------------------------------------------\n",
    "class Idx(IntEnum):\n",
    "    p_id = 0\n",
    "    price = 1\n",
    "    length = 2\n",
    "    width = 3\n",
    "    height = 4\n",
    "    weight = 5\n",
    "    volume = 6\n",
    "    density = 7  # cent/cm3 - value per cubic centimeter\n",
    "\n",
    "\n",
    "# The tote’s usable space is 45 centimeters long, 30 wide and 35 high\n",
    "tote_volume = 45 * 30 * 35  # 47250 cm3"
   ]
  },
  {
   "cell_type": "code",
   "execution_count": 2,
   "metadata": {},
   "outputs": [
    {
     "name": "stderr",
     "output_type": "stream",
     "text": [
      "INFO - <module> - 5 - './products.csv' - row = 20000, column = 6\n"
     ]
    }
   ],
   "source": [
    "# read input file\n",
    "inputs = pd.read_csv(file_name, header=None, \n",
    "                     names=list(range(6)), nrows=num_rows)  # DataFrame\n",
    "row, column = inputs.shape\n",
    "logging.info(\"'{}' - row = {}, column = {}\".format(file_name, row, column))\n",
    "# print(inputs)\n",
    "\n",
    "lengths = inputs.iloc[:, Idx.length]\n",
    "widths = inputs.iloc[:, Idx.width]\n",
    "heights = inputs.iloc[:, Idx.height]\n"
   ]
  },
  {
   "cell_type": "code",
   "execution_count": 3,
   "metadata": {},
   "outputs": [
    {
     "name": "stdout",
     "output_type": "stream",
     "text": [
      "1165\n53\n0\n"
     ]
    }
   ],
   "source": [
    "# The tote’s usable space is 45 centimeters long, 30 wide and 35 high\n",
    "print(len(lengths[lengths > 45]))\n",
    "print(len(widths[widths > 45]))\n",
    "print(len(heights[heights > 45]))"
   ]
  },
  {
   "cell_type": "code",
   "execution_count": 8,
   "metadata": {},
   "outputs": [
    {
     "name": "stdout",
     "output_type": "stream",
     "text": [
      "366\n366\n"
     ]
    }
   ],
   "source": [
    "volumes = []\n",
    "densities = []\n",
    "for i in range(row):\n",
    "    volumes.append(inputs.iloc[i, Idx.length] * inputs.iloc[i, Idx.width] * inputs.iloc[i, Idx.height])\n",
    "    densities.append(volumes[i] / inputs.iloc[i, Idx.price])\n",
    "\n",
    "print(sum([item > tote_volume for item in volumes]))"
   ]
  },
  {
   "cell_type": "code",
   "execution_count": null,
   "metadata": {},
   "outputs": [],
   "source": []
  }
 ],
 "metadata": {
  "kernelspec": {
   "display_name": "Python 3",
   "language": "python",
   "name": "python3"
  },
  "language_info": {
   "codemirror_mode": {
    "name": "ipython",
    "version": 3
   },
   "file_extension": ".py",
   "mimetype": "text/x-python",
   "name": "python",
   "nbconvert_exporter": "python",
   "pygments_lexer": "ipython3",
   "version": "3.7.0"
  }
 },
 "nbformat": 4,
 "nbformat_minor": 1
}
