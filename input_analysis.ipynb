{
 "cells": [
  {
   "cell_type": "code",
   "execution_count": 1,
   "metadata": {},
   "outputs": [],
   "source": [
    "import pandas as pd\n",
    "import numpy as np\n",
    "from prize import Idx, Product, Basket\n",
    "import logging\n",
    "# change logging level from INFO to DEBUG to print debugging logs\n",
    "logging.basicConfig(level=logging.INFO, \n",
    "                    format='%(levelname)s - %(funcName)s - %(lineno)d - %(message)s')\n",
    "\n",
    "\n",
    "# Configurations:\n",
    "file_name = \"./products.csv\"\n",
    "\n",
    "# specify the number of rows to read, set to \"None\" to read the whole file\n",
    "num_rows = None \n",
    "\n",
    "# The tote’s usable space is 45 centimeters long, 30 wide and 35 high\n",
    "tote_volume = 45 * 30 * 35  # 47250 cm3"
   ]
  },
  {
   "cell_type": "code",
   "execution_count": 2,
   "metadata": {},
   "outputs": [
    {
     "name": "stderr",
     "output_type": "stream",
     "text": [
      "INFO - <module> - 11 - './products.csv' - row = 20000, column = 6\n"
     ]
    }
   ],
   "source": [
    "# read input file\n",
    "\n",
    "# Format of inputs\n",
    "#  |     0      |   1   |    2   |   3   |   4    |   5    |\n",
    "#  | product ID | price | length | width | height | weight |\n",
    "#  |     /      | cents |   cm   |  cm   |   cm   |   g    |\n",
    "# -------------------------------------------------------------\n",
    "inputs = pd.read_csv(file_name, header=None, \n",
    "                     names=list(range(6)), nrows=num_rows)  # DataFrame\n",
    "row, column = inputs.shape\n",
    "logging.info(\"'{}' - row = {}, column = {}\".format(file_name, row, column))\n",
    "# print(inputs)"
   ]
  },
  {
   "cell_type": "code",
   "execution_count": 3,
   "metadata": {},
   "outputs": [
    {
     "name": "stdout",
     "output_type": "stream",
     "text": [
      "1165\n53\n0\n"
     ]
    }
   ],
   "source": [
    "lengths = inputs.iloc[:, Idx.length].values  # Numpy Array\n",
    "widths = inputs.iloc[:, Idx.width].values    # Numpy Array\n",
    "heights = inputs.iloc[:, Idx.height].values  # Numpy Array\n",
    "\n",
    "# The tote’s usable space is 45 centimeters long, 30 wide and 35 high\n",
    "print(len(lengths[lengths > 45]))\n",
    "print(len(widths[widths > 45]))\n",
    "print(len(heights[heights > 45]))\n"
   ]
  },
  {
   "cell_type": "code",
   "execution_count": 4,
   "metadata": {
    "collapsed": true
   },
   "outputs": [
    {
     "name": "stdout",
     "output_type": "stream",
     "text": [
      "minimum volume of a product = 1500 cm3\nmaximum no. of products can fit into the tote = 31\n"
     ]
    },
    {
     "name": "stdout",
     "output_type": "stream",
     "text": [
      "no. of products whose min dimension > 30cm = 356\nno. of products whose middle dimension > 35cm = 1101\nno. of products whose max dimension > 45cm = 1165\nno. of products bigger than the tote = 366\nno. of candidate products = 17933\ninputs.shape = (20000, 8)\n"
     ]
    }
   ],
   "source": [
    "volumes = []    # List\n",
    "densities = []  # List\n",
    "for i in range(row):\n",
    "    volumes.append(inputs.iloc[i, Idx.length] * inputs.iloc[i, Idx.width] * inputs.iloc[i, Idx.height])\n",
    "    densities.append(volumes[i] / inputs.iloc[i, Idx.price])\n",
    "\n",
    "min_volume = min(volumes)\n",
    "\n",
    "print(\"minimum volume of a product = {} cm3\".format(min_volume))\n",
    "print(\"maximum no. of products can fit into the tote = {}\".format(tote_volume//min_volume))\n",
    "\n",
    "inputs[Idx.volume] = pd.Series(volumes, index=inputs.index)\n",
    "inputs[Idx.density] = pd.Series(densities, index=inputs.index)\n",
    "\n",
    "# Format of inputs\n",
    "#  |     0      |   1   |    2   |   3   |   4    |   5    |    6   |    7     |\n",
    "#  | product ID | price | length | width | height | weight | volume | density  |\n",
    "#  |     /      | cents |   cm   |  cm   |   cm   |   g    |   cm3  | cent/cm3 |\n",
    "# ------------------------------------------------------------------------------\n",
    "\n",
    "\n",
    "# The tote’s usable space is 45 centimeters long, 30 wide and 35 high\n",
    "# Assume that the orientation of the product doesn't matter \n",
    "# (i.e. no request to place the product upright always).\n",
    "# For simplicity, only consider the potential rotation of the product be 90, 180, 270 degrees.\n",
    "c_30, c_35, c_45, c_candidate = 0, 0, 0, 0\n",
    "for i in range(row):\n",
    "    dimensions = sorted([inputs.iloc[i, Idx.length], inputs.iloc[i, Idx.width], \n",
    "                         inputs.iloc[i, Idx.height]])  # ascending order\n",
    "    if dimensions[0] > 30:\n",
    "        c_30 += 1\n",
    "    if dimensions[1] > 35:\n",
    "        c_35 += 1\n",
    "    if dimensions[2] > 45:\n",
    "        c_45 += 1\n",
    "    if dimensions[0] > 30 or dimensions[1] > 35 or dimensions[2] > 45:\n",
    "        # the product doesn't fit into the tote\n",
    "        continue\n",
    "    c_candidate += 1\n",
    "\n",
    "print(\"no. of products whose min dimension > 30cm = {}\".format(c_30))\n",
    "print(\"no. of products whose middle dimension > 35cm = {}\".format(c_35))\n",
    "print(\"no. of products whose max dimension > 45cm = {}\".format(c_45))\n",
    "print(\"no. of products bigger than the tote = {}\".\n",
    "      format(sum([item > tote_volume for item in volumes])))\n",
    "print(\"no. of candidate products = {}\".format(c_candidate))\n",
    "\n",
    "print(\"inputs.shape = {}\".format(inputs.shape))"
   ]
  },
  {
   "cell_type": "code",
   "execution_count": null,
   "metadata": {},
   "outputs": [],
   "source": [
    "# total no. of candidate products = 17933 (out of 20000)\n"
   ]
  }
 ],
 "metadata": {
  "kernelspec": {
   "display_name": "Python 3",
   "language": "python",
   "name": "python3"
  },
  "language_info": {
   "codemirror_mode": {
    "name": "ipython",
    "version": 3
   },
   "file_extension": ".py",
   "mimetype": "text/x-python",
   "name": "python",
   "nbconvert_exporter": "python",
   "pygments_lexer": "ipython3",
   "version": "3.7.0"
  }
 },
 "nbformat": 4,
 "nbformat_minor": 1
}
